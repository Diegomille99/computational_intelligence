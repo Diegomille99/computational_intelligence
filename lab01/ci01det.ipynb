{
  "nbformat": 4,
  "nbformat_minor": 0,
  "metadata": {
    "colab": {
      "provenance": []
    },
    "kernelspec": {
      "name": "python3",
      "display_name": "Python 3"
    },
    "language_info": {
      "name": "python"
    }
  },
  "cells": [
    {
      "cell_type": "code",
      "execution_count": 1,
      "metadata": {
        "id": "M4Tz-OabvIUA"
      },
      "outputs": [],
      "source": [
        "from random import random\n",
        "from functools import reduce\n",
        "from collections import namedtuple\n",
        "from queue import PriorityQueue, SimpleQueue, LifoQueue\n",
        "import matplotlib.pyplot as plt\n",
        "from scipy.special import softmax\n",
        "import numpy as np\n",
        "from random import seed"
      ]
    },
    {
      "cell_type": "code",
      "execution_count": 2,
      "metadata": {
        "id": "7brlUXrAvIUC"
      },
      "outputs": [],
      "source": [
        "def goal_check(state):\n",
        "    return np.all(reduce(np.logical_or, [SETS[i] for i in state.taken], np.array([False for _ in range(PROBLEM_SIZE)])))"
      ]
    },
    {
      "cell_type": "code",
      "source": [
        "def frequencies(A):\n",
        "  return np.sum(A, axis=0)\n"
      ],
      "metadata": {
        "id": "r4bHe_F-xDMu"
      },
      "execution_count": 3,
      "outputs": []
    },
    {
      "cell_type": "code",
      "source": [
        "def rank_0(A):\n",
        "  return np.sum(A, axis=1)\n"
      ],
      "metadata": {
        "id": "_Ukf4ZZfyQsw"
      },
      "execution_count": 4,
      "outputs": []
    },
    {
      "cell_type": "markdown",
      "source": [
        "Generate instance"
      ],
      "metadata": {
        "id": "OMC-yd2rOgXZ"
      }
    },
    {
      "cell_type": "code",
      "source": [
        "seed(1)"
      ],
      "metadata": {
        "id": "EMMY-OO1IUlN"
      },
      "execution_count": 12,
      "outputs": []
    },
    {
      "cell_type": "code",
      "execution_count": 19,
      "metadata": {
        "id": "2BLt6iPBvIUB"
      },
      "outputs": [],
      "source": [
        "PROBLEM_SIZE = 10\n",
        "NUM_SETS = 20\n",
        "SETS = tuple(np.array([random() < .3 for _ in range(PROBLEM_SIZE)]) for _ in range(NUM_SETS))\n",
        "State = namedtuple('State', ['taken', 'not_taken'])"
      ]
    },
    {
      "cell_type": "markdown",
      "source": [
        "Check whether this instance has a solution or not"
      ],
      "metadata": {
        "id": "kJqWSsfzOXoF"
      }
    },
    {
      "cell_type": "code",
      "execution_count": 20,
      "metadata": {
        "id": "te-5hs5KvIUC"
      },
      "outputs": [],
      "source": [
        "assert goal_check(State(set(range(NUM_SETS)), set())), \"Problem not solvable\""
      ]
    },
    {
      "cell_type": "markdown",
      "source": [
        "Plot it"
      ],
      "metadata": {
        "id": "zdpvYhr7OnNk"
      }
    },
    {
      "cell_type": "code",
      "source": [
        "plt.imshow(SETS, cmap='Blues', aspect='auto', extent=[0, PROBLEM_SIZE, 0, NUM_SETS])\n",
        "#plt.yticks([])  # Hide y-axis ticks\n",
        "plt.xticks([])  # Hide x-axis ticks\n",
        "plt.yticks([])\n",
        "plt.show()"
      ],
      "metadata": {
        "colab": {
          "base_uri": "https://localhost:8080/",
          "height": 406
        },
        "id": "aAEuBENXyT2z",
        "outputId": "564c4282-68b5-4184-b21f-537380c7e993"
      },
      "execution_count": 21,
      "outputs": [
        {
          "output_type": "display_data",
          "data": {
            "text/plain": [
              "<Figure size 640x480 with 1 Axes>"
            ],
            "image/png": "[encoded data removed]"
          },
          "metadata": {}
        }
      ]
    },
    {
      "cell_type": "markdown",
      "source": [
        "Convert the tuple to a matrix to operate faster"
      ],
      "metadata": {
        "id": "aMCGqWA5O2Yc"
      }
    },
    {
      "cell_type": "code",
      "source": [
        "numeric_sets = np.array(SETS, dtype=int)\n",
        "\n",
        "plt.imshow(numeric_sets, cmap='Blues', aspect='auto', extent=[0, PROBLEM_SIZE, 0, NUM_SETS])\n",
        "plt.xticks([])  # Hide x-axis ticks\n",
        "plt.yticks([])  # Hide y-axis ticks\n",
        "plt.show()"
      ],
      "metadata": {
        "colab": {
          "base_uri": "https://localhost:8080/",
          "height": 406
        },
        "id": "Ur-3rAaJzk2u",
        "outputId": "5b2d7860-c1fd-448d-bc6c-616095e95e52"
      },
      "execution_count": 22,
      "outputs": [
        {
          "output_type": "display_data",
          "data": {
            "text/plain": [
              "<Figure size 640x480 with 1 Axes>"
            ],
            "image/png": "[encoded data removed]"
          },
          "metadata": {}
        }
      ]
    },
    {
      "cell_type": "markdown",
      "source": [
        "Plotted again just to check"
      ],
      "metadata": {
        "id": "2EJwJDQkO8sX"
      }
    },
    {
      "cell_type": "markdown",
      "source": [
        "Here we have the Heuristic"
      ],
      "metadata": {
        "id": "H1gSE2HkQ6xs"
      }
    },
    {
      "cell_type": "code",
      "source": [
        "tiles=0\n",
        "cs=State(set(), set(range(NUM_SETS)))\n",
        "while not goal_check(cs):\n",
        "  tiles+=1\n",
        "  freq=frequencies(numeric_sets)\n",
        "  print(freq)\n",
        "  card=rank_0(numeric_sets)\n",
        "  print(card)\n",
        "  weights=(100-freq)*0.01\n",
        "  print(weights)\n",
        "  rank=card+np.dot(numeric_sets,weights)\n",
        "  print(rank)\n",
        "  action=np.argmax(rank,axis =0)\n",
        "  print(f\"{action},{rank[action]}\")\n",
        "  remove=np.argwhere(numeric_sets[action] == 1)\n",
        "  remove\n",
        "  #numeric_sets=np.delete(numeric_sets,action, axis=0)\n",
        "  numeric_sets=np.delete(numeric_sets,remove,axis=1)\n",
        "  cs=State(cs.taken ^ {action},cs.not_taken ^ {action})\n"
      ],
      "metadata": {
        "colab": {
          "base_uri": "https://localhost:8080/"
        },
        "id": "v4SjfYEyS39G",
        "outputId": "016a81db-bd65-4fd6-e2e1-d5e034f40d5e"
      },
      "execution_count": 23,
      "outputs": [
        {
          "output_type": "stream",
          "name": "stdout",
          "text": [
            "[ 5  9  7  7  6 10  6  6  4  6]\n",
            "[1 6 6 4 3 4 2 2 3 3 3 2 3 5 3 4 2 4 3 3]\n",
            "[0.95 0.91 0.93 0.93 0.94 0.9  0.94 0.94 0.96 0.94]\n",
            "[ 1.91 11.57 11.6   7.71  5.77  7.71  3.85  3.86  5.84  5.77  5.81  3.87\n",
            "  5.75  9.68  5.78  7.73  3.84  7.74  5.77  5.8 ]\n",
            "2,11.600000000000001\n",
            "[10  6  4  6]\n",
            "[0 2 0 3 2 2 0 0 1 2 0 0 2 3 2 2 1 2 1 1]\n",
            "[0.9  0.94 0.96 0.94]\n",
            "[0.   3.84 0.   5.8  3.84 3.84 0.   0.   1.96 3.84 0.   0.   3.84 5.84\n",
            " 3.84 3.84 1.9  3.9  1.9  1.94]\n",
            "13,5.84\n",
            "[10]\n",
            "[0 1 0 1 1 1 0 0 0 1 0 0 1 0 1 1 1 0 1 0]\n",
            "[0.9]\n",
            "[0.  1.9 0.  1.9 1.9 1.9 0.  0.  0.  1.9 0.  0.  1.9 0.  1.9 1.9 1.9 0.\n",
            " 1.9 0. ]\n",
            "1,1.9\n"
          ]
        }
      ]
    },
    {
      "cell_type": "code",
      "source": [
        "print(tiles,cs.taken)"
      ],
      "metadata": {
        "colab": {
          "base_uri": "https://localhost:8080/"
        },
        "outputId": "de85fa4a-d850-4c72-a80b-e7435c278b16",
        "id": "boU-mzlGbQyb"
      },
      "execution_count": 24,
      "outputs": [
        {
          "output_type": "stream",
          "name": "stdout",
          "text": [
            "3 {1, 2, 13}\n"
          ]
        }
      ]
    }
  ]
}