{
  "nbformat": 4,
  "nbformat_minor": 0,
  "metadata": {
    "colab": {
      "provenance": []
    },
    "kernelspec": {
      "name": "python3",
      "display_name": "Python 3"
    },
    "language_info": {
      "name": "python"
    }
  },
  "cells": [
    {
      "cell_type": "code",
      "execution_count": 42,
      "metadata": {
        "id": "M4Tz-OabvIUA"
      },
      "outputs": [],
      "source": [
        "from random import random\n",
        "from functools import reduce\n",
        "from collections import namedtuple\n",
        "from queue import PriorityQueue, SimpleQueue, LifoQueue\n",
        "import matplotlib.pyplot as plt\n",
        "from scipy.special import softmax\n",
        "import numpy as np"
      ]
    },
    {
      "cell_type": "code",
      "execution_count": 43,
      "metadata": {
        "id": "7brlUXrAvIUC"
      },
      "outputs": [],
      "source": [
        "def goal_check(state):\n",
        "    return np.all(reduce(np.logical_or, [SETS[i] for i in state.taken], np.array([False for _ in range(PROBLEM_SIZE)])))"
      ]
    },
    {
      "cell_type": "code",
      "source": [
        "def frequencies(A):\n",
        "  return np.sum(A, axis=0)\n"
      ],
      "metadata": {
        "id": "r4bHe_F-xDMu"
      },
      "execution_count": 44,
      "outputs": []
    },
    {
      "cell_type": "code",
      "source": [
        "def rank_0(A):\n",
        "  return np.sum(A, axis=1)\n"
      ],
      "metadata": {
        "id": "_Ukf4ZZfyQsw"
      },
      "execution_count": 45,
      "outputs": []
    },
    {
      "cell_type": "code",
      "source": [
        "State = namedtuple('State', ['taken', 'not_taken'])"
      ],
      "metadata": {
        "id": "zaCWjk8Sy1z4"
      },
      "execution_count": 46,
      "outputs": []
    },
    {
      "cell_type": "code",
      "source": [
        "DET=np.zeros(100)\n",
        "STOCH=np.zeros(100)"
      ],
      "metadata": {
        "id": "cejB--0r0TI8"
      },
      "execution_count": 85,
      "outputs": []
    },
    {
      "cell_type": "code",
      "source": [
        "PROBLEM_SIZE =70\n",
        "NUM_SETS =50"
      ],
      "metadata": {
        "id": "1HOfToCU2C8r"
      },
      "execution_count": 86,
      "outputs": []
    },
    {
      "cell_type": "code",
      "source": [
        "for i in range(100):\n",
        "  SETS = tuple(np.array([random() < .3 for _ in range(PROBLEM_SIZE)]) for _ in range(NUM_SETS))\n",
        "  if not goal_check(State(set(range(NUM_SETS)), set())):\n",
        "    STOCH[i]=0\n",
        "    DET[i]=0\n",
        "    print(f\"nope at {i}\")\n",
        "\n",
        "  else:\n",
        "\n",
        "    numeric_sets = np.array(SETS, dtype=int)\n",
        "\n",
        "    a=numeric_sets #DUMMY VARIABLE TO STORE INFO\n",
        "\n",
        "    tiles=0\n",
        "    cs=State(set(), set(range(NUM_SETS)))\n",
        "\n",
        "    while not goal_check(cs):\n",
        "      tiles+=1\n",
        "      freq=frequencies(numeric_sets)\n",
        "      #print(freq)\n",
        "      card=rank_0(numeric_sets)\n",
        "      #print(card)\n",
        "      weights=(100-freq)*0.01\n",
        "      #print(weights)\n",
        "      rank=card+np.dot(numeric_sets,weights)\n",
        "      #print(rank)\n",
        "      p = softmax(rank)\n",
        "      action=np.random.choice(len(p), p=p)\n",
        "\n",
        "      #print(f\"{action},{rank[action]}\")\n",
        "\n",
        "      remove=np.argwhere(numeric_sets[action] == 1)\n",
        "\n",
        "      #numeric_sets=np.delete(numeric_sets,action, axis=0)\n",
        "      numeric_sets=np.delete(numeric_sets,remove,axis=1)\n",
        "      cs=State(cs.taken ^ {action},cs.not_taken ^ {action})\n",
        "\n",
        "    STOCH[i]=tiles\n",
        "\n",
        "    numeric_sets=a\n",
        "    tiles=0\n",
        "    cs=State(set(), set(range(NUM_SETS)))\n",
        "    while not goal_check(cs):\n",
        "      tiles+=1\n",
        "      freq=frequencies(numeric_sets)\n",
        "      #print(freq)\n",
        "      card=rank_0(numeric_sets)\n",
        "      #print(card)\n",
        "      weights=(100-freq)*0.01\n",
        "      #print(weights)\n",
        "      rank=card+np.dot(numeric_sets,weights)\n",
        "      #print(rank)\n",
        "      p = softmax(rank)\n",
        "      action=np.random.choice(len(p), p=p)\n",
        "\n",
        "      #print(f\"{action},{rank[action]}\")\n",
        "\n",
        "      remove=np.argwhere(numeric_sets[action] == 1)\n",
        "\n",
        "      #numeric_sets=np.delete(numeric_sets,action, axis=0)\n",
        "      numeric_sets=np.delete(numeric_sets,remove,axis=1)\n",
        "      cs=State(cs.taken ^ {action},cs.not_taken ^ {action})\n",
        "\n",
        "    DET[i]=tiles\n",
        "\n",
        "\n",
        "\n",
        "\n",
        "\n",
        "\n",
        "\n",
        "\n",
        ""
      ],
      "metadata": {
        "id": "FMF5AmBi0GbG"
      },
      "execution_count": 92,
      "outputs": []
    },
    {
      "cell_type": "code",
      "source": [
        "print(STOCH,DET)"
      ],
      "metadata": {
        "colab": {
          "base_uri": "https://localhost:8080/"
        },
        "id": "SFiTmd9h3YYS",
        "outputId": "5afb09a0-b883-4593-e808-774c26802338"
      },
      "execution_count": 93,
      "outputs": [
        {
          "output_type": "stream",
          "name": "stdout",
          "text": [
            "[ 6.  6.  6.  6.  6.  8.  6.  6. 16.  6.  9.  7.  7. 16.  8. 13.  6.  6.\n",
            "  6.  5.  6.  7.  6. 10. 17.  8.  6.  8.  7.  7.  7.  6.  6.  6.  6.  6.\n",
            "  6.  5.  7.  6.  7.  6.  6.  5.  7.  6. 17.  6. 10.  6.  7.  8.  6.  6.\n",
            "  8.  9.  6.  6.  6.  8.  8.  5.  7.  8.  6.  7.  7.  6.  5.  6.  8.  7.\n",
            "  8.  7.  5. 22.  6. 10. 43.  9.  7.  7. 25.  8.  6.  7.  8.  6.  6.  7.\n",
            "  8.  7.  6.  7.  6.  9. 11.  8.  7.  8.] [ 8.  8.  6. 23.  6.  8.  8.  6.  8.  7.  7.  7.  7.  6.  6.  7.  5.  6.\n",
            "  8.  6.  6. 10.  5.  7.  7.  6.  8.  8.  8.  8.  5.  7.  6.  6.  6.  6.\n",
            "  8. 17. 14.  6.  6.  7.  7.  6.  6.  8.  8.  9.  7.  6.  7.  7.  7.  6.\n",
            "  9.  7.  6. 16. 14.  6.  6.  5.  6.  7.  8.  5.  8.  7.  7.  6.  7.  6.\n",
            "  6.  6.  6.  9.  6.  6.  6.  8.  6.  6.  8.  6.  6.  6.  7.  6.  8.  8.\n",
            "  8.  5.  5.  7. 18.  6.  8.  7.  6.  8.]\n"
          ]
        }
      ]
    },
    {
      "cell_type": "code",
      "source": [
        "print(DET)"
      ],
      "metadata": {
        "colab": {
          "base_uri": "https://localhost:8080/"
        },
        "id": "Ko_gMpQ93swD",
        "outputId": "56400601-2215-4006-bde2-c7fc85adf8dc"
      },
      "execution_count": 94,
      "outputs": [
        {
          "output_type": "stream",
          "name": "stdout",
          "text": [
            "[ 8.  8.  6. 23.  6.  8.  8.  6.  8.  7.  7.  7.  7.  6.  6.  7.  5.  6.\n",
            "  8.  6.  6. 10.  5.  7.  7.  6.  8.  8.  8.  8.  5.  7.  6.  6.  6.  6.\n",
            "  8. 17. 14.  6.  6.  7.  7.  6.  6.  8.  8.  9.  7.  6.  7.  7.  7.  6.\n",
            "  9.  7.  6. 16. 14.  6.  6.  5.  6.  7.  8.  5.  8.  7.  7.  6.  7.  6.\n",
            "  6.  6.  6.  9.  6.  6.  6.  8.  6.  6.  8.  6.  6.  6.  7.  6.  8.  8.\n",
            "  8.  5.  5.  7. 18.  6.  8.  7.  6.  8.]\n"
          ]
        }
      ]
    },
    {
      "cell_type": "code",
      "source": [
        "print(np.sum(np.array(DET>STOCH),axis=0),np.sum(np.array(STOCH>0),axis=0))"
      ],
      "metadata": {
        "colab": {
          "base_uri": "https://localhost:8080/"
        },
        "id": "aoJoEHBY3yRW",
        "outputId": "6bdba735-adde-47bd-a059-3369ec4256ce"
      },
      "execution_count": 97,
      "outputs": [
        {
          "output_type": "stream",
          "name": "stdout",
          "text": [
            "32 100\n"
          ]
        }
      ]
    }
  ]
}